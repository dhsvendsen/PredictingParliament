{
 "metadata": {
  "name": "",
  "signature": "sha256:7d3f38a835c7eec7add9542861d51353f9216de73abc6cdf7b67f8651f3bea8a"
 },
 "nbformat": 3,
 "nbformat_minor": 0,
 "worksheets": [
  {
   "cells": [
    {
     "cell_type": "code",
     "collapsed": false,
     "input": [
      "import pandas as pd\n",
      "import requests as rq\n",
      "import json"
     ],
     "language": "python",
     "metadata": {},
     "outputs": [],
     "prompt_number": 26
    },
    {
     "cell_type": "code",
     "collapsed": false,
     "input": [
      "def get_votings_json():\n",
      "\turl = 'http://oda.ft.dk/api/Afstemning?$inlinecount=allpages&$skip=0'\n",
      "\tdata = rq.get(url).json()\n",
      "\tnextLink = data['odata.nextLink']\n",
      "\tnew_data = data\n",
      "\tdata = data['value']\n",
      "\t\n",
      "\twhile True:\n",
      "\t\tif 'odata.nextLink' in new_data:\n",
      "\t\t\tnextLink = new_data['odata.nextLink']\n",
      "\t\t\tnew_data = rq.get(nextLink).json()\n",
      "\t\t\tdata.extend(new_data['value'])\n",
      "\t\telse:\n",
      "\t\t\tbreak\n",
      "\n",
      "\treturn data\n",
      "\n",
      "votings_json = get_votings_json()"
     ],
     "language": "python",
     "metadata": {},
     "outputs": [],
     "prompt_number": 9
    },
    {
     "cell_type": "code",
     "collapsed": false,
     "input": [
      "def get_proposition_id(proposition, votings_json=votings_json):\n",
      "\tfor voting in votings_json:\n",
      "\t\tif proposition + \":\" in voting['konklusion']:\n",
      "\t\t\treturn voting['id']\n",
      "\telse:\n",
      "\t\treturn \"Id not found\""
     ],
     "language": "python",
     "metadata": {},
     "outputs": [],
     "prompt_number": 6
    },
    {
     "cell_type": "code",
     "collapsed": false,
     "input": [
      "def id_to_politician(_id):\n",
      "    url = 'http://oda.ft.dk/api/Akt%C3%B8r({0})'.format(_id)\n",
      "    data = rq.get(url).json()\n",
      "    return data['navn']"
     ],
     "language": "python",
     "metadata": {},
     "outputs": [],
     "prompt_number": 43
    },
    {
     "cell_type": "code",
     "collapsed": false,
     "input": [
      "def politician_to_id_dict():\n",
      "    url = 'http://oda.ft.dk/api/Stemme?$inlinecount=allpages&$filter=afstemningid%20eq%204&$skip=0'\n",
      "    data = rq.get(url).json()\n",
      "    nextLink = data['odata.nextLink']\n",
      "    new_data = data\n",
      "    data = data['value']\n",
      "    \n",
      "    while True:\n",
      "        if 'odata.nextLink' in new_data:\n",
      "            nextLink = new_data['odata.nextLink']\n",
      "            new_data = rq.get(nextLink).json()\n",
      "            data.extend(new_data['value'])\n",
      "        else:\n",
      "            break\n",
      "            \n",
      "    politician_map = {}\n",
      "    for politician in data:\n",
      "        politician_map.update({id_to_politician(politician.values()[1]): politician.values()[1]})\n",
      "        \n",
      "    return politician_map\n",
      "\n",
      "politician_dict = politician_to_id_dict()"
     ],
     "language": "python",
     "metadata": {},
     "outputs": [],
     "prompt_number": 50
    },
    {
     "cell_type": "code",
     "collapsed": false,
     "input": [],
     "language": "python",
     "metadata": {},
     "outputs": [
      {
       "output_type": "stream",
       "stream": "stdout",
       "text": [
        "127\n"
       ]
      }
     ],
     "prompt_number": 54
    },
    {
     "cell_type": "code",
     "collapsed": false,
     "input": [
      "def politician_voting_in_vote(_id,afstemningid):\n",
      "    url = 'http://oda.ft.dk/api/Stemme?$inlinecount=allpages&$filter=afstemningid%20eq%20{0}&$skip=0'.format(afstemningid)\n",
      "    data = rq.get(url).json()\n",
      "    nextLink = data['odata.nextLink']\n",
      "    new_data = data\n",
      "    data = data['value']\n",
      "    \n",
      "    while True:\n",
      "        if 'odata.nextLink' in new_data:\n",
      "            nextLink = new_data['odata.nextLink']\n",
      "            new_data = rq.get(nextLink).json()\n",
      "            data.extend(new_data['value'])\n",
      "        else:\n",
      "            break\n",
      "    \n",
      "    for politician in data:\n",
      "        if _id == politician.values()[1]:\n",
      "            return politician['typeid']\n",
      "\n",
      "print politician_voting_in_vote(12,4)"
     ],
     "language": "python",
     "metadata": {},
     "outputs": [
      {
       "output_type": "stream",
       "stream": "stdout",
       "text": [
        "3\n"
       ]
      }
     ],
     "prompt_number": 39
    },
    {
     "cell_type": "code",
     "collapsed": false,
     "input": [
      "print id_to_politician(10)"
     ],
     "language": "python",
     "metadata": {},
     "outputs": [
      {
       "output_type": "stream",
       "stream": "stdout",
       "text": [
        "Gr\u00f8nlandsudvalget\n"
       ]
      }
     ],
     "prompt_number": 35
    },
    {
     "cell_type": "code",
     "collapsed": false,
     "input": [],
     "language": "python",
     "metadata": {},
     "outputs": []
    }
   ],
   "metadata": {}
  }
 ]
}